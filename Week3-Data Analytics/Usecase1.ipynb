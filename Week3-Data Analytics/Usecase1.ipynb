{
  "cells": [
    {
      "cell_type": "markdown",
      "metadata": {
        "id": "0gzukkV-i7Y6"
      },
      "source": [
        "### Use Case 1: Predicting Customer Churn in Telecommunications"
      ]
    },
    {
      "cell_type": "markdown",
      "metadata": {
        "id": "ysWaxpaikEzN"
      },
      "source": [
        "### 1. Introduction"
      ]
    },
    {
      "cell_type": "markdown",
      "metadata": {
        "id": "L6U5VgxFjDGa"
      },
      "source": [
        "Business Problem Statement:\n",
        "\n",
        "A telecommunications company is facing high customer churn rates, impacting revenue and customer retention. The company wants to identify factors contributing to churn and develop strategies to reduce it."
      ]
    },
    {
      "cell_type": "markdown",
      "metadata": {
        "id": "bJOFHt3ZinVq"
      },
      "source": [
        "### 2. Data Collection"
      ]
    },
    {
      "cell_type": "markdown",
      "metadata": {
        "id": "buNB8o_akvfD"
      },
      "source": [
        "Generating Synthetic Dataset\n",
        "\n",
        "To analyze churn behavior, we need a dataset. Below is the Python script to generate synthetic data for 1,000 customers."
      ]
    },
    {
      "cell_type": "code",
      "execution_count": 60,
      "metadata": {
        "colab": {
          "base_uri": "https://localhost:8080/"
        },
        "id": "sHBYxfEY-8W7",
        "outputId": "09e35f4f-d66c-4a3c-b4d8-6a73c1124da6"
      },
      "outputs": [
        {
          "name": "stdout",
          "output_type": "stream",
          "text": [
            "Synthetic dataset generated and saved as 'customer_churn_data.csv'.\n"
          ]
        }
      ],
      "source": [
        "import pandas as pd\n",
        "import numpy as np\n",
        "import random\n",
        "\n",
        "# Set random seed for reproducibility\n",
        "np.random.seed(42)\n",
        "\n",
        "# Parameters for dataset generation\n",
        "num_customers = 1000  # Number of customers to simulate\n",
        "\n",
        "# Generate Customer IDs\n",
        "customer_ids = [f\"C{str(i).zfill(4)}\" for i in range(1, num_customers + 1)]\n",
        "\n",
        "# Generate Customer Demographics\n",
        "ages = np.random.randint(18, 80, size=num_customers)  # Age between 18 and 80\n",
        "locations = np.random.choice(['Urban', 'Rural', 'Suburban'], size=num_customers, p=[0.5, 0.3, 0.2])\n",
        "plan_types = np.random.choice(['Basic', 'Premium'], size=num_customers, p=[0.7, 0.3])\n",
        "\n",
        "# Generate Usage Patterns\n",
        "average_call_duration = np.random.uniform(1, 30, size=num_customers)  # Average call duration in minutes\n",
        "data_usage = np.random.uniform(0.5, 50, size=num_customers)  # Data usage in GB\n",
        "number_of_calls = np.random.randint(10, 300, size=num_customers)  # Number of calls per month\n",
        "\n",
        "# Generate Billing Information\n",
        "monthly_charges = np.random.uniform(20, 150, size=num_customers)  # Monthly charges in dollars\n",
        "payment_methods = np.random.choice(['CreditCard', 'BankTransfer'], size=num_customers, p=[0.6, 0.4])\n",
        "\n",
        "# Generate Churn Status\n",
        "# Churn is influenced by factors like high monthly charges, low usage, and plan type\n",
        "churn_probabilities = (\n",
        "    0.3 * (monthly_charges > 100) +  # Higher churn probability for high charges\n",
        "    0.2 * (data_usage < 5) +        # Higher churn probability for low data usage\n",
        "    0.1 * (plan_types == 'Basic')   # Higher churn probability for Basic plans\n",
        ")\n",
        "churn_status = np.random.choice(['Yes', 'No'], size=num_customers, p=[0.2, 0.8])\n",
        "\n",
        "# Create DataFrame\n",
        "data = pd.DataFrame({\n",
        "    'CustomerID': customer_ids,\n",
        "    'Age': ages,\n",
        "    'Location': locations,\n",
        "    'PlanType': plan_types,\n",
        "    'AverageCallDuration': average_call_duration,\n",
        "    'DataUsage': data_usage,\n",
        "    'NumberOfCalls': number_of_calls,\n",
        "    'MonthlyCharges': monthly_charges,\n",
        "    'PaymentMethod': payment_methods,\n",
        "    'ChurnStatus': churn_status\n",
        "})\n",
        "\n",
        "# Save to CSV\n",
        "data.to_csv('customer_churn_data.csv', index=False)\n",
        "\n",
        "print(\"Synthetic dataset generated and saved as 'customer_churn_data.csv'.\")"
      ]
    },
    {
      "cell_type": "markdown",
      "metadata": {
        "id": "6z6v7ZSdjPKZ"
      },
      "source": [
        "### 3. Understanding the Dataset"
      ]
    },
    {
      "cell_type": "markdown",
      "metadata": {
        "id": "Girqua92k7x9"
      },
      "source": [
        "The dataset consists of various customer attributes, including demographics, usage patterns, billing information, and churn status.\n",
        "\n",
        "**Provided Features:**\n",
        "\n",
        "Customer Demographics: Age, Location, Plan Type\n",
        "\n",
        "Usage Patterns: Average Call Duration, Data Usage, Number of Calls\n",
        "\n",
        "Billing Information: Monthly Charges, Payment Method\n",
        "\n",
        "Churn Status: Yes/No (Indicates whether a customer has left the service)\n",
        "\n",
        "**Explanation of the Dataset:**\n",
        "\n",
        "CustomerID: Unique identifier for each customer.\n",
        "\n",
        "Age: Customer's age.\n",
        "\n",
        "Location: Urban, Rural, or Suburban.\n",
        "\n",
        "PlanType: Basic or Premium.\n",
        "\n",
        "AverageCallDuration: Average duration of calls made.\n",
        "\n",
        "DataUsage: Total data used by the customer.\n",
        "\n",
        "NumberOfCalls: Total number of calls made.\n",
        "\n",
        "MonthlyCharges: Monthly charges for the customer’s plan.\n",
        "\n",
        "PaymentMethod: CreditCard or BankTransfer.\n",
        "\n",
        "ChurnStatus: Whether the customer has churned (Yes/No)."
      ]
    },
    {
      "cell_type": "markdown",
      "metadata": {
        "id": "P2svOsF0lJJo"
      },
      "source": [
        "# Data Analysis"
      ]
    },
    {
      "cell_type": "code",
      "execution_count": 61,
      "metadata": {
        "id": "89fqzy1B_Lkj"
      },
      "outputs": [],
      "source": [
        "# Import necessary libraries\n",
        "import pandas as pd\n",
        "#import numpy as np\n",
        "import seaborn as sns\n",
        "import matplotlib.pyplot as plt\n"
      ]
    },
    {
      "cell_type": "code",
      "execution_count": 62,
      "metadata": {
        "id": "vIw2mtT-_P1f"
      },
      "outputs": [],
      "source": [
        "# Load the dataset\n",
        "df = pd.read_csv(\"/content/customer_churn_data.csv\")  # Replace with your file path\n"
      ]
    },
    {
      "cell_type": "code",
      "execution_count": 63,
      "metadata": {
        "colab": {
          "base_uri": "https://localhost:8080/"
        },
        "id": "fUcXo0slCzr-",
        "outputId": "962ff876-3bb6-456c-8338-0b6d66251134"
      },
      "outputs": [
        {
          "data": {
            "text/plain": [
              "(1000, 10)"
            ]
          },
          "execution_count": 63,
          "metadata": {},
          "output_type": "execute_result"
        }
      ],
      "source": [
        "df.shape"
      ]
    },
    {
      "cell_type": "code",
      "execution_count": 64,
      "metadata": {
        "colab": {
          "base_uri": "https://localhost:8080/"
        },
        "id": "AqY1uoWkg-8A",
        "outputId": "ae0098ca-6fec-4b95-baab-791c03c6b966"
      },
      "outputs": [
        {
          "name": "stdout",
          "output_type": "stream",
          "text": [
            "<class 'pandas.core.frame.DataFrame'>\n",
            "RangeIndex: 1000 entries, 0 to 999\n",
            "Data columns (total 10 columns):\n",
            " #   Column               Non-Null Count  Dtype  \n",
            "---  ------               --------------  -----  \n",
            " 0   CustomerID           1000 non-null   object \n",
            " 1   Age                  1000 non-null   int64  \n",
            " 2   Location             1000 non-null   object \n",
            " 3   PlanType             1000 non-null   object \n",
            " 4   AverageCallDuration  1000 non-null   float64\n",
            " 5   DataUsage            1000 non-null   float64\n",
            " 6   NumberOfCalls        1000 non-null   int64  \n",
            " 7   MonthlyCharges       1000 non-null   float64\n",
            " 8   PaymentMethod        1000 non-null   object \n",
            " 9   ChurnStatus          1000 non-null   object \n",
            "dtypes: float64(3), int64(2), object(5)\n",
            "memory usage: 78.3+ KB\n"
          ]
        }
      ],
      "source": [
        "df.info()"
      ]
    },
    {
      "cell_type": "code",
      "execution_count": 65,
      "metadata": {
        "colab": {
          "base_uri": "https://localhost:8080/",
          "height": 206
        },
        "id": "hmtC4RQ6_W-J",
        "outputId": "f927d93a-aeca-4778-c6b0-ad5335cc7092"
      },
      "outputs": [
        {
          "data": {
            "application/vnd.google.colaboratory.intrinsic+json": {
              "summary": "{\n  \"name\": \"df\",\n  \"rows\": 1000,\n  \"fields\": [\n    {\n      \"column\": \"CustomerID\",\n      \"properties\": {\n        \"dtype\": \"string\",\n        \"num_unique_values\": 1000,\n        \"samples\": [\n          \"C0522\",\n          \"C0738\",\n          \"C0741\"\n        ],\n        \"semantic_type\": \"\",\n        \"description\": \"\"\n      }\n    },\n    {\n      \"column\": \"Age\",\n      \"properties\": {\n        \"dtype\": \"number\",\n        \"std\": 18,\n        \"min\": 18,\n        \"max\": 79,\n        \"num_unique_values\": 62,\n        \"samples\": [\n          51,\n          18,\n          56\n        ],\n        \"semantic_type\": \"\",\n        \"description\": \"\"\n      }\n    },\n    {\n      \"column\": \"Location\",\n      \"properties\": {\n        \"dtype\": \"category\",\n        \"num_unique_values\": 3,\n        \"samples\": [\n          \"Urban\",\n          \"Rural\",\n          \"Suburban\"\n        ],\n        \"semantic_type\": \"\",\n        \"description\": \"\"\n      }\n    },\n    {\n      \"column\": \"PlanType\",\n      \"properties\": {\n        \"dtype\": \"category\",\n        \"num_unique_values\": 2,\n        \"samples\": [\n          \"Premium\",\n          \"Basic\"\n        ],\n        \"semantic_type\": \"\",\n        \"description\": \"\"\n      }\n    },\n    {\n      \"column\": \"AverageCallDuration\",\n      \"properties\": {\n        \"dtype\": \"number\",\n        \"std\": 8.236724683846356,\n        \"min\": 1.0128406616790286,\n        \"max\": 29.98677364285373,\n        \"num_unique_values\": 1000,\n        \"samples\": [\n          3.990519509834198,\n          15.856257960061068\n        ],\n        \"semantic_type\": \"\",\n        \"description\": \"\"\n      }\n    },\n    {\n      \"column\": \"DataUsage\",\n      \"properties\": {\n        \"dtype\": \"number\",\n        \"std\": 14.403498496760365,\n        \"min\": 0.5092331444478242,\n        \"max\": 49.88232970144358,\n        \"num_unique_values\": 1000,\n        \"samples\": [\n          32.07614279037159,\n          5.763696218737245\n        ],\n        \"semantic_type\": \"\",\n        \"description\": \"\"\n      }\n    },\n    {\n      \"column\": \"NumberOfCalls\",\n      \"properties\": {\n        \"dtype\": \"number\",\n        \"std\": 83,\n        \"min\": 10,\n        \"max\": 299,\n        \"num_unique_values\": 276,\n        \"samples\": [\n          146,\n          228\n        ],\n        \"semantic_type\": \"\",\n        \"description\": \"\"\n      }\n    },\n    {\n      \"column\": \"MonthlyCharges\",\n      \"properties\": {\n        \"dtype\": \"number\",\n        \"std\": 37.41514198974679,\n        \"min\": 20.509388743642123,\n        \"max\": 149.9298885377575,\n        \"num_unique_values\": 1000,\n        \"samples\": [\n          96.210614841499,\n          30.651997074959\n        ],\n        \"semantic_type\": \"\",\n        \"description\": \"\"\n      }\n    },\n    {\n      \"column\": \"PaymentMethod\",\n      \"properties\": {\n        \"dtype\": \"category\",\n        \"num_unique_values\": 2,\n        \"samples\": [\n          \"CreditCard\",\n          \"BankTransfer\"\n        ],\n        \"semantic_type\": \"\",\n        \"description\": \"\"\n      }\n    },\n    {\n      \"column\": \"ChurnStatus\",\n      \"properties\": {\n        \"dtype\": \"category\",\n        \"num_unique_values\": 2,\n        \"samples\": [\n          \"Yes\",\n          \"No\"\n        ],\n        \"semantic_type\": \"\",\n        \"description\": \"\"\n      }\n    }\n  ]\n}",
              "type": "dataframe",
              "variable_name": "df"
            },
            "text/html": [
              "\n",
              "  <div id=\"df-b3039894-931e-43fb-9731-8ccf0780db9a\" class=\"colab-df-container\">\n",
              "    <div>\n",
              "<style scoped>\n",
              "    .dataframe tbody tr th:only-of-type {\n",
              "        vertical-align: middle;\n",
              "    }\n",
              "\n",
              "    .dataframe tbody tr th {\n",
              "        vertical-align: top;\n",
              "    }\n",
              "\n",
              "    .dataframe thead th {\n",
              "        text-align: right;\n",
              "    }\n",
              "</style>\n",
              "<table border=\"1\" class=\"dataframe\">\n",
              "  <thead>\n",
              "    <tr style=\"text-align: right;\">\n",
              "      <th></th>\n",
              "      <th>CustomerID</th>\n",
              "      <th>Age</th>\n",
              "      <th>Location</th>\n",
              "      <th>PlanType</th>\n",
              "      <th>AverageCallDuration</th>\n",
              "      <th>DataUsage</th>\n",
              "      <th>NumberOfCalls</th>\n",
              "      <th>MonthlyCharges</th>\n",
              "      <th>PaymentMethod</th>\n",
              "      <th>ChurnStatus</th>\n",
              "    </tr>\n",
              "  </thead>\n",
              "  <tbody>\n",
              "    <tr>\n",
              "      <th>0</th>\n",
              "      <td>C0001</td>\n",
              "      <td>56</td>\n",
              "      <td>Urban</td>\n",
              "      <td>Basic</td>\n",
              "      <td>26.289402</td>\n",
              "      <td>8.821847</td>\n",
              "      <td>135</td>\n",
              "      <td>69.987056</td>\n",
              "      <td>BankTransfer</td>\n",
              "      <td>No</td>\n",
              "    </tr>\n",
              "    <tr>\n",
              "      <th>1</th>\n",
              "      <td>C0002</td>\n",
              "      <td>69</td>\n",
              "      <td>Rural</td>\n",
              "      <td>Basic</td>\n",
              "      <td>16.289559</td>\n",
              "      <td>24.010073</td>\n",
              "      <td>235</td>\n",
              "      <td>65.104664</td>\n",
              "      <td>CreditCard</td>\n",
              "      <td>No</td>\n",
              "    </tr>\n",
              "    <tr>\n",
              "      <th>2</th>\n",
              "      <td>C0003</td>\n",
              "      <td>46</td>\n",
              "      <td>Urban</td>\n",
              "      <td>Basic</td>\n",
              "      <td>19.343779</td>\n",
              "      <td>3.233515</td>\n",
              "      <td>230</td>\n",
              "      <td>76.134922</td>\n",
              "      <td>BankTransfer</td>\n",
              "      <td>Yes</td>\n",
              "    </tr>\n",
              "    <tr>\n",
              "      <th>3</th>\n",
              "      <td>C0004</td>\n",
              "      <td>32</td>\n",
              "      <td>Suburban</td>\n",
              "      <td>Basic</td>\n",
              "      <td>19.689638</td>\n",
              "      <td>47.147981</td>\n",
              "      <td>220</td>\n",
              "      <td>121.631377</td>\n",
              "      <td>BankTransfer</td>\n",
              "      <td>No</td>\n",
              "    </tr>\n",
              "    <tr>\n",
              "      <th>4</th>\n",
              "      <td>C0005</td>\n",
              "      <td>60</td>\n",
              "      <td>Rural</td>\n",
              "      <td>Basic</td>\n",
              "      <td>24.774136</td>\n",
              "      <td>4.203650</td>\n",
              "      <td>34</td>\n",
              "      <td>82.942494</td>\n",
              "      <td>CreditCard</td>\n",
              "      <td>Yes</td>\n",
              "    </tr>\n",
              "  </tbody>\n",
              "</table>\n",
              "</div>\n",
              "    <div class=\"colab-df-buttons\">\n",
              "\n",
              "  <div class=\"colab-df-container\">\n",
              "    <button class=\"colab-df-convert\" onclick=\"convertToInteractive('df-b3039894-931e-43fb-9731-8ccf0780db9a')\"\n",
              "            title=\"Convert this dataframe to an interactive table.\"\n",
              "            style=\"display:none;\">\n",
              "\n",
              "  <svg xmlns=\"http://www.w3.org/2000/svg\" height=\"24px\" viewBox=\"0 -960 960 960\">\n",
              "    <path d=\"M120-120v-720h720v720H120Zm60-500h600v-160H180v160Zm220 220h160v-160H400v160Zm0 220h160v-160H400v160ZM180-400h160v-160H180v160Zm440 0h160v-160H620v160ZM180-180h160v-160H180v160Zm440 0h160v-160H620v160Z\"/>\n",
              "  </svg>\n",
              "    </button>\n",
              "\n",
              "  <style>\n",
              "    .colab-df-container {\n",
              "      display:flex;\n",
              "      gap: 12px;\n",
              "    }\n",
              "\n",
              "    .colab-df-convert {\n",
              "      background-color: #E8F0FE;\n",
              "      border: none;\n",
              "      border-radius: 50%;\n",
              "      cursor: pointer;\n",
              "      display: none;\n",
              "      fill: #1967D2;\n",
              "      height: 32px;\n",
              "      padding: 0 0 0 0;\n",
              "      width: 32px;\n",
              "    }\n",
              "\n",
              "    .colab-df-convert:hover {\n",
              "      background-color: #E2EBFA;\n",
              "      box-shadow: 0px 1px 2px rgba(60, 64, 67, 0.3), 0px 1px 3px 1px rgba(60, 64, 67, 0.15);\n",
              "      fill: #174EA6;\n",
              "    }\n",
              "\n",
              "    .colab-df-buttons div {\n",
              "      margin-bottom: 4px;\n",
              "    }\n",
              "\n",
              "    [theme=dark] .colab-df-convert {\n",
              "      background-color: #3B4455;\n",
              "      fill: #D2E3FC;\n",
              "    }\n",
              "\n",
              "    [theme=dark] .colab-df-convert:hover {\n",
              "      background-color: #434B5C;\n",
              "      box-shadow: 0px 1px 3px 1px rgba(0, 0, 0, 0.15);\n",
              "      filter: drop-shadow(0px 1px 2px rgba(0, 0, 0, 0.3));\n",
              "      fill: #FFFFFF;\n",
              "    }\n",
              "  </style>\n",
              "\n",
              "    <script>\n",
              "      const buttonEl =\n",
              "        document.querySelector('#df-b3039894-931e-43fb-9731-8ccf0780db9a button.colab-df-convert');\n",
              "      buttonEl.style.display =\n",
              "        google.colab.kernel.accessAllowed ? 'block' : 'none';\n",
              "\n",
              "      async function convertToInteractive(key) {\n",
              "        const element = document.querySelector('#df-b3039894-931e-43fb-9731-8ccf0780db9a');\n",
              "        const dataTable =\n",
              "          await google.colab.kernel.invokeFunction('convertToInteractive',\n",
              "                                                    [key], {});\n",
              "        if (!dataTable) return;\n",
              "\n",
              "        const docLinkHtml = 'Like what you see? Visit the ' +\n",
              "          '<a target=\"_blank\" href=https://colab.research.google.com/notebooks/data_table.ipynb>data table notebook</a>'\n",
              "          + ' to learn more about interactive tables.';\n",
              "        element.innerHTML = '';\n",
              "        dataTable['output_type'] = 'display_data';\n",
              "        await google.colab.output.renderOutput(dataTable, element);\n",
              "        const docLink = document.createElement('div');\n",
              "        docLink.innerHTML = docLinkHtml;\n",
              "        element.appendChild(docLink);\n",
              "      }\n",
              "    </script>\n",
              "  </div>\n",
              "\n",
              "\n",
              "<div id=\"df-3c577986-f9af-4e23-8c54-6f792e9c9f69\">\n",
              "  <button class=\"colab-df-quickchart\" onclick=\"quickchart('df-3c577986-f9af-4e23-8c54-6f792e9c9f69')\"\n",
              "            title=\"Suggest charts\"\n",
              "            style=\"display:none;\">\n",
              "\n",
              "<svg xmlns=\"http://www.w3.org/2000/svg\" height=\"24px\"viewBox=\"0 0 24 24\"\n",
              "     width=\"24px\">\n",
              "    <g>\n",
              "        <path d=\"M19 3H5c-1.1 0-2 .9-2 2v14c0 1.1.9 2 2 2h14c1.1 0 2-.9 2-2V5c0-1.1-.9-2-2-2zM9 17H7v-7h2v7zm4 0h-2V7h2v10zm4 0h-2v-4h2v4z\"/>\n",
              "    </g>\n",
              "</svg>\n",
              "  </button>\n",
              "\n",
              "<style>\n",
              "  .colab-df-quickchart {\n",
              "      --bg-color: #E8F0FE;\n",
              "      --fill-color: #1967D2;\n",
              "      --hover-bg-color: #E2EBFA;\n",
              "      --hover-fill-color: #174EA6;\n",
              "      --disabled-fill-color: #AAA;\n",
              "      --disabled-bg-color: #DDD;\n",
              "  }\n",
              "\n",
              "  [theme=dark] .colab-df-quickchart {\n",
              "      --bg-color: #3B4455;\n",
              "      --fill-color: #D2E3FC;\n",
              "      --hover-bg-color: #434B5C;\n",
              "      --hover-fill-color: #FFFFFF;\n",
              "      --disabled-bg-color: #3B4455;\n",
              "      --disabled-fill-color: #666;\n",
              "  }\n",
              "\n",
              "  .colab-df-quickchart {\n",
              "    background-color: var(--bg-color);\n",
              "    border: none;\n",
              "    border-radius: 50%;\n",
              "    cursor: pointer;\n",
              "    display: none;\n",
              "    fill: var(--fill-color);\n",
              "    height: 32px;\n",
              "    padding: 0;\n",
              "    width: 32px;\n",
              "  }\n",
              "\n",
              "  .colab-df-quickchart:hover {\n",
              "    background-color: var(--hover-bg-color);\n",
              "    box-shadow: 0 1px 2px rgba(60, 64, 67, 0.3), 0 1px 3px 1px rgba(60, 64, 67, 0.15);\n",
              "    fill: var(--button-hover-fill-color);\n",
              "  }\n",
              "\n",
              "  .colab-df-quickchart-complete:disabled,\n",
              "  .colab-df-quickchart-complete:disabled:hover {\n",
              "    background-color: var(--disabled-bg-color);\n",
              "    fill: var(--disabled-fill-color);\n",
              "    box-shadow: none;\n",
              "  }\n",
              "\n",
              "  .colab-df-spinner {\n",
              "    border: 2px solid var(--fill-color);\n",
              "    border-color: transparent;\n",
              "    border-bottom-color: var(--fill-color);\n",
              "    animation:\n",
              "      spin 1s steps(1) infinite;\n",
              "  }\n",
              "\n",
              "  @keyframes spin {\n",
              "    0% {\n",
              "      border-color: transparent;\n",
              "      border-bottom-color: var(--fill-color);\n",
              "      border-left-color: var(--fill-color);\n",
              "    }\n",
              "    20% {\n",
              "      border-color: transparent;\n",
              "      border-left-color: var(--fill-color);\n",
              "      border-top-color: var(--fill-color);\n",
              "    }\n",
              "    30% {\n",
              "      border-color: transparent;\n",
              "      border-left-color: var(--fill-color);\n",
              "      border-top-color: var(--fill-color);\n",
              "      border-right-color: var(--fill-color);\n",
              "    }\n",
              "    40% {\n",
              "      border-color: transparent;\n",
              "      border-right-color: var(--fill-color);\n",
              "      border-top-color: var(--fill-color);\n",
              "    }\n",
              "    60% {\n",
              "      border-color: transparent;\n",
              "      border-right-color: var(--fill-color);\n",
              "    }\n",
              "    80% {\n",
              "      border-color: transparent;\n",
              "      border-right-color: var(--fill-color);\n",
              "      border-bottom-color: var(--fill-color);\n",
              "    }\n",
              "    90% {\n",
              "      border-color: transparent;\n",
              "      border-bottom-color: var(--fill-color);\n",
              "    }\n",
              "  }\n",
              "</style>\n",
              "\n",
              "  <script>\n",
              "    async function quickchart(key) {\n",
              "      const quickchartButtonEl =\n",
              "        document.querySelector('#' + key + ' button');\n",
              "      quickchartButtonEl.disabled = true;  // To prevent multiple clicks.\n",
              "      quickchartButtonEl.classList.add('colab-df-spinner');\n",
              "      try {\n",
              "        const charts = await google.colab.kernel.invokeFunction(\n",
              "            'suggestCharts', [key], {});\n",
              "      } catch (error) {\n",
              "        console.error('Error during call to suggestCharts:', error);\n",
              "      }\n",
              "      quickchartButtonEl.classList.remove('colab-df-spinner');\n",
              "      quickchartButtonEl.classList.add('colab-df-quickchart-complete');\n",
              "    }\n",
              "    (() => {\n",
              "      let quickchartButtonEl =\n",
              "        document.querySelector('#df-3c577986-f9af-4e23-8c54-6f792e9c9f69 button');\n",
              "      quickchartButtonEl.style.display =\n",
              "        google.colab.kernel.accessAllowed ? 'block' : 'none';\n",
              "    })();\n",
              "  </script>\n",
              "</div>\n",
              "\n",
              "    </div>\n",
              "  </div>\n"
            ],
            "text/plain": [
              "  CustomerID  Age  Location PlanType  AverageCallDuration  DataUsage  \\\n",
              "0      C0001   56     Urban    Basic            26.289402   8.821847   \n",
              "1      C0002   69     Rural    Basic            16.289559  24.010073   \n",
              "2      C0003   46     Urban    Basic            19.343779   3.233515   \n",
              "3      C0004   32  Suburban    Basic            19.689638  47.147981   \n",
              "4      C0005   60     Rural    Basic            24.774136   4.203650   \n",
              "\n",
              "   NumberOfCalls  MonthlyCharges PaymentMethod ChurnStatus  \n",
              "0            135       69.987056  BankTransfer          No  \n",
              "1            235       65.104664    CreditCard          No  \n",
              "2            230       76.134922  BankTransfer         Yes  \n",
              "3            220      121.631377  BankTransfer          No  \n",
              "4             34       82.942494    CreditCard         Yes  "
            ]
          },
          "execution_count": 65,
          "metadata": {},
          "output_type": "execute_result"
        }
      ],
      "source": [
        "# Display first few rows\n",
        "df.head()"
      ]
    },
    {
      "cell_type": "code",
      "execution_count": 66,
      "metadata": {
        "colab": {
          "base_uri": "https://localhost:8080/",
          "height": 300
        },
        "id": "rUIC4ERziY8n",
        "outputId": "4f850fbb-0419-47a2-f8ab-00e6fedeab87"
      },
      "outputs": [
        {
          "data": {
            "application/vnd.google.colaboratory.intrinsic+json": {
              "summary": "{\n  \"name\": \"df\",\n  \"rows\": 8,\n  \"fields\": [\n    {\n      \"column\": \"Age\",\n      \"properties\": {\n        \"dtype\": \"number\",\n        \"std\": 338.27024279016047,\n        \"min\": 18.0,\n        \"max\": 1000.0,\n        \"num_unique_values\": 8,\n        \"samples\": [\n          49.857,\n          50.0,\n          1000.0\n        ],\n        \"semantic_type\": \"\",\n        \"description\": \"\"\n      }\n    },\n    {\n      \"column\": \"AverageCallDuration\",\n      \"properties\": {\n        \"dtype\": \"number\",\n        \"std\": 348.4031339009958,\n        \"min\": 1.0128406616790286,\n        \"max\": 1000.0,\n        \"num_unique_values\": 8,\n        \"samples\": [\n          16.07552096520835,\n          16.653439854504487,\n          1000.0\n        ],\n        \"semantic_type\": \"\",\n        \"description\": \"\"\n      }\n    },\n    {\n      \"column\": \"DataUsage\",\n      \"properties\": {\n        \"dtype\": \"number\",\n        \"std\": 345.68968174483297,\n        \"min\": 0.5092331444478242,\n        \"max\": 1000.0,\n        \"num_unique_values\": 8,\n        \"samples\": [\n          24.501222832318767,\n          23.99730000739096,\n          1000.0\n        ],\n        \"semantic_type\": \"\",\n        \"description\": \"\"\n      }\n    },\n    {\n      \"column\": \"NumberOfCalls\",\n      \"properties\": {\n        \"dtype\": \"number\",\n        \"std\": 316.27034283796183,\n        \"min\": 10.0,\n        \"max\": 1000.0,\n        \"num_unique_values\": 8,\n        \"samples\": [\n          150.261,\n          149.0,\n          1000.0\n        ],\n        \"semantic_type\": \"\",\n        \"description\": \"\"\n      }\n    },\n    {\n      \"column\": \"MonthlyCharges\",\n      \"properties\": {\n        \"dtype\": \"number\",\n        \"std\": 328.78403346375467,\n        \"min\": 20.509388743642123,\n        \"max\": 1000.0,\n        \"num_unique_values\": 8,\n        \"samples\": [\n          84.2967887543068,\n          83.95543397562878,\n          1000.0\n        ],\n        \"semantic_type\": \"\",\n        \"description\": \"\"\n      }\n    }\n  ]\n}",
              "type": "dataframe"
            },
            "text/html": [
              "\n",
              "  <div id=\"df-bd5cc9bb-339b-439c-9795-f7e9e0e67f50\" class=\"colab-df-container\">\n",
              "    <div>\n",
              "<style scoped>\n",
              "    .dataframe tbody tr th:only-of-type {\n",
              "        vertical-align: middle;\n",
              "    }\n",
              "\n",
              "    .dataframe tbody tr th {\n",
              "        vertical-align: top;\n",
              "    }\n",
              "\n",
              "    .dataframe thead th {\n",
              "        text-align: right;\n",
              "    }\n",
              "</style>\n",
              "<table border=\"1\" class=\"dataframe\">\n",
              "  <thead>\n",
              "    <tr style=\"text-align: right;\">\n",
              "      <th></th>\n",
              "      <th>Age</th>\n",
              "      <th>AverageCallDuration</th>\n",
              "      <th>DataUsage</th>\n",
              "      <th>NumberOfCalls</th>\n",
              "      <th>MonthlyCharges</th>\n",
              "    </tr>\n",
              "  </thead>\n",
              "  <tbody>\n",
              "    <tr>\n",
              "      <th>count</th>\n",
              "      <td>1000.000000</td>\n",
              "      <td>1000.000000</td>\n",
              "      <td>1000.000000</td>\n",
              "      <td>1000.000000</td>\n",
              "      <td>1000.000000</td>\n",
              "    </tr>\n",
              "    <tr>\n",
              "      <th>mean</th>\n",
              "      <td>49.857000</td>\n",
              "      <td>16.075521</td>\n",
              "      <td>24.501223</td>\n",
              "      <td>150.261000</td>\n",
              "      <td>84.296789</td>\n",
              "    </tr>\n",
              "    <tr>\n",
              "      <th>std</th>\n",
              "      <td>18.114267</td>\n",
              "      <td>8.236725</td>\n",
              "      <td>14.403498</td>\n",
              "      <td>83.508038</td>\n",
              "      <td>37.415142</td>\n",
              "    </tr>\n",
              "    <tr>\n",
              "      <th>min</th>\n",
              "      <td>18.000000</td>\n",
              "      <td>1.012841</td>\n",
              "      <td>0.509233</td>\n",
              "      <td>10.000000</td>\n",
              "      <td>20.509389</td>\n",
              "    </tr>\n",
              "    <tr>\n",
              "      <th>25%</th>\n",
              "      <td>35.000000</td>\n",
              "      <td>9.199405</td>\n",
              "      <td>11.979636</td>\n",
              "      <td>79.750000</td>\n",
              "      <td>51.639004</td>\n",
              "    </tr>\n",
              "    <tr>\n",
              "      <th>50%</th>\n",
              "      <td>50.000000</td>\n",
              "      <td>16.653440</td>\n",
              "      <td>23.997300</td>\n",
              "      <td>149.000000</td>\n",
              "      <td>83.955434</td>\n",
              "    </tr>\n",
              "    <tr>\n",
              "      <th>75%</th>\n",
              "      <td>66.000000</td>\n",
              "      <td>23.116538</td>\n",
              "      <td>37.070607</td>\n",
              "      <td>221.000000</td>\n",
              "      <td>115.935954</td>\n",
              "    </tr>\n",
              "    <tr>\n",
              "      <th>max</th>\n",
              "      <td>79.000000</td>\n",
              "      <td>29.986774</td>\n",
              "      <td>49.882330</td>\n",
              "      <td>299.000000</td>\n",
              "      <td>149.929889</td>\n",
              "    </tr>\n",
              "  </tbody>\n",
              "</table>\n",
              "</div>\n",
              "    <div class=\"colab-df-buttons\">\n",
              "\n",
              "  <div class=\"colab-df-container\">\n",
              "    <button class=\"colab-df-convert\" onclick=\"convertToInteractive('df-bd5cc9bb-339b-439c-9795-f7e9e0e67f50')\"\n",
              "            title=\"Convert this dataframe to an interactive table.\"\n",
              "            style=\"display:none;\">\n",
              "\n",
              "  <svg xmlns=\"http://www.w3.org/2000/svg\" height=\"24px\" viewBox=\"0 -960 960 960\">\n",
              "    <path d=\"M120-120v-720h720v720H120Zm60-500h600v-160H180v160Zm220 220h160v-160H400v160Zm0 220h160v-160H400v160ZM180-400h160v-160H180v160Zm440 0h160v-160H620v160ZM180-180h160v-160H180v160Zm440 0h160v-160H620v160Z\"/>\n",
              "  </svg>\n",
              "    </button>\n",
              "\n",
              "  <style>\n",
              "    .colab-df-container {\n",
              "      display:flex;\n",
              "      gap: 12px;\n",
              "    }\n",
              "\n",
              "    .colab-df-convert {\n",
              "      background-color: #E8F0FE;\n",
              "      border: none;\n",
              "      border-radius: 50%;\n",
              "      cursor: pointer;\n",
              "      display: none;\n",
              "      fill: #1967D2;\n",
              "      height: 32px;\n",
              "      padding: 0 0 0 0;\n",
              "      width: 32px;\n",
              "    }\n",
              "\n",
              "    .colab-df-convert:hover {\n",
              "      background-color: #E2EBFA;\n",
              "      box-shadow: 0px 1px 2px rgba(60, 64, 67, 0.3), 0px 1px 3px 1px rgba(60, 64, 67, 0.15);\n",
              "      fill: #174EA6;\n",
              "    }\n",
              "\n",
              "    .colab-df-buttons div {\n",
              "      margin-bottom: 4px;\n",
              "    }\n",
              "\n",
              "    [theme=dark] .colab-df-convert {\n",
              "      background-color: #3B4455;\n",
              "      fill: #D2E3FC;\n",
              "    }\n",
              "\n",
              "    [theme=dark] .colab-df-convert:hover {\n",
              "      background-color: #434B5C;\n",
              "      box-shadow: 0px 1px 3px 1px rgba(0, 0, 0, 0.15);\n",
              "      filter: drop-shadow(0px 1px 2px rgba(0, 0, 0, 0.3));\n",
              "      fill: #FFFFFF;\n",
              "    }\n",
              "  </style>\n",
              "\n",
              "    <script>\n",
              "      const buttonEl =\n",
              "        document.querySelector('#df-bd5cc9bb-339b-439c-9795-f7e9e0e67f50 button.colab-df-convert');\n",
              "      buttonEl.style.display =\n",
              "        google.colab.kernel.accessAllowed ? 'block' : 'none';\n",
              "\n",
              "      async function convertToInteractive(key) {\n",
              "        const element = document.querySelector('#df-bd5cc9bb-339b-439c-9795-f7e9e0e67f50');\n",
              "        const dataTable =\n",
              "          await google.colab.kernel.invokeFunction('convertToInteractive',\n",
              "                                                    [key], {});\n",
              "        if (!dataTable) return;\n",
              "\n",
              "        const docLinkHtml = 'Like what you see? Visit the ' +\n",
              "          '<a target=\"_blank\" href=https://colab.research.google.com/notebooks/data_table.ipynb>data table notebook</a>'\n",
              "          + ' to learn more about interactive tables.';\n",
              "        element.innerHTML = '';\n",
              "        dataTable['output_type'] = 'display_data';\n",
              "        await google.colab.output.renderOutput(dataTable, element);\n",
              "        const docLink = document.createElement('div');\n",
              "        docLink.innerHTML = docLinkHtml;\n",
              "        element.appendChild(docLink);\n",
              "      }\n",
              "    </script>\n",
              "  </div>\n",
              "\n",
              "\n",
              "<div id=\"df-f6c46fb0-e0fb-47e8-b842-897f7e18682e\">\n",
              "  <button class=\"colab-df-quickchart\" onclick=\"quickchart('df-f6c46fb0-e0fb-47e8-b842-897f7e18682e')\"\n",
              "            title=\"Suggest charts\"\n",
              "            style=\"display:none;\">\n",
              "\n",
              "<svg xmlns=\"http://www.w3.org/2000/svg\" height=\"24px\"viewBox=\"0 0 24 24\"\n",
              "     width=\"24px\">\n",
              "    <g>\n",
              "        <path d=\"M19 3H5c-1.1 0-2 .9-2 2v14c0 1.1.9 2 2 2h14c1.1 0 2-.9 2-2V5c0-1.1-.9-2-2-2zM9 17H7v-7h2v7zm4 0h-2V7h2v10zm4 0h-2v-4h2v4z\"/>\n",
              "    </g>\n",
              "</svg>\n",
              "  </button>\n",
              "\n",
              "<style>\n",
              "  .colab-df-quickchart {\n",
              "      --bg-color: #E8F0FE;\n",
              "      --fill-color: #1967D2;\n",
              "      --hover-bg-color: #E2EBFA;\n",
              "      --hover-fill-color: #174EA6;\n",
              "      --disabled-fill-color: #AAA;\n",
              "      --disabled-bg-color: #DDD;\n",
              "  }\n",
              "\n",
              "  [theme=dark] .colab-df-quickchart {\n",
              "      --bg-color: #3B4455;\n",
              "      --fill-color: #D2E3FC;\n",
              "      --hover-bg-color: #434B5C;\n",
              "      --hover-fill-color: #FFFFFF;\n",
              "      --disabled-bg-color: #3B4455;\n",
              "      --disabled-fill-color: #666;\n",
              "  }\n",
              "\n",
              "  .colab-df-quickchart {\n",
              "    background-color: var(--bg-color);\n",
              "    border: none;\n",
              "    border-radius: 50%;\n",
              "    cursor: pointer;\n",
              "    display: none;\n",
              "    fill: var(--fill-color);\n",
              "    height: 32px;\n",
              "    padding: 0;\n",
              "    width: 32px;\n",
              "  }\n",
              "\n",
              "  .colab-df-quickchart:hover {\n",
              "    background-color: var(--hover-bg-color);\n",
              "    box-shadow: 0 1px 2px rgba(60, 64, 67, 0.3), 0 1px 3px 1px rgba(60, 64, 67, 0.15);\n",
              "    fill: var(--button-hover-fill-color);\n",
              "  }\n",
              "\n",
              "  .colab-df-quickchart-complete:disabled,\n",
              "  .colab-df-quickchart-complete:disabled:hover {\n",
              "    background-color: var(--disabled-bg-color);\n",
              "    fill: var(--disabled-fill-color);\n",
              "    box-shadow: none;\n",
              "  }\n",
              "\n",
              "  .colab-df-spinner {\n",
              "    border: 2px solid var(--fill-color);\n",
              "    border-color: transparent;\n",
              "    border-bottom-color: var(--fill-color);\n",
              "    animation:\n",
              "      spin 1s steps(1) infinite;\n",
              "  }\n",
              "\n",
              "  @keyframes spin {\n",
              "    0% {\n",
              "      border-color: transparent;\n",
              "      border-bottom-color: var(--fill-color);\n",
              "      border-left-color: var(--fill-color);\n",
              "    }\n",
              "    20% {\n",
              "      border-color: transparent;\n",
              "      border-left-color: var(--fill-color);\n",
              "      border-top-color: var(--fill-color);\n",
              "    }\n",
              "    30% {\n",
              "      border-color: transparent;\n",
              "      border-left-color: var(--fill-color);\n",
              "      border-top-color: var(--fill-color);\n",
              "      border-right-color: var(--fill-color);\n",
              "    }\n",
              "    40% {\n",
              "      border-color: transparent;\n",
              "      border-right-color: var(--fill-color);\n",
              "      border-top-color: var(--fill-color);\n",
              "    }\n",
              "    60% {\n",
              "      border-color: transparent;\n",
              "      border-right-color: var(--fill-color);\n",
              "    }\n",
              "    80% {\n",
              "      border-color: transparent;\n",
              "      border-right-color: var(--fill-color);\n",
              "      border-bottom-color: var(--fill-color);\n",
              "    }\n",
              "    90% {\n",
              "      border-color: transparent;\n",
              "      border-bottom-color: var(--fill-color);\n",
              "    }\n",
              "  }\n",
              "</style>\n",
              "\n",
              "  <script>\n",
              "    async function quickchart(key) {\n",
              "      const quickchartButtonEl =\n",
              "        document.querySelector('#' + key + ' button');\n",
              "      quickchartButtonEl.disabled = true;  // To prevent multiple clicks.\n",
              "      quickchartButtonEl.classList.add('colab-df-spinner');\n",
              "      try {\n",
              "        const charts = await google.colab.kernel.invokeFunction(\n",
              "            'suggestCharts', [key], {});\n",
              "      } catch (error) {\n",
              "        console.error('Error during call to suggestCharts:', error);\n",
              "      }\n",
              "      quickchartButtonEl.classList.remove('colab-df-spinner');\n",
              "      quickchartButtonEl.classList.add('colab-df-quickchart-complete');\n",
              "    }\n",
              "    (() => {\n",
              "      let quickchartButtonEl =\n",
              "        document.querySelector('#df-f6c46fb0-e0fb-47e8-b842-897f7e18682e button');\n",
              "      quickchartButtonEl.style.display =\n",
              "        google.colab.kernel.accessAllowed ? 'block' : 'none';\n",
              "    })();\n",
              "  </script>\n",
              "</div>\n",
              "\n",
              "    </div>\n",
              "  </div>\n"
            ],
            "text/plain": [
              "               Age  AverageCallDuration    DataUsage  NumberOfCalls  \\\n",
              "count  1000.000000          1000.000000  1000.000000    1000.000000   \n",
              "mean     49.857000            16.075521    24.501223     150.261000   \n",
              "std      18.114267             8.236725    14.403498      83.508038   \n",
              "min      18.000000             1.012841     0.509233      10.000000   \n",
              "25%      35.000000             9.199405    11.979636      79.750000   \n",
              "50%      50.000000            16.653440    23.997300     149.000000   \n",
              "75%      66.000000            23.116538    37.070607     221.000000   \n",
              "max      79.000000            29.986774    49.882330     299.000000   \n",
              "\n",
              "       MonthlyCharges  \n",
              "count     1000.000000  \n",
              "mean        84.296789  \n",
              "std         37.415142  \n",
              "min         20.509389  \n",
              "25%         51.639004  \n",
              "50%         83.955434  \n",
              "75%        115.935954  \n",
              "max        149.929889  "
            ]
          },
          "execution_count": 66,
          "metadata": {},
          "output_type": "execute_result"
        }
      ],
      "source": [
        "df.describe()"
      ]
    },
    {
      "cell_type": "markdown",
      "metadata": {
        "id": "lTwZ8_CNWsnU"
      },
      "source": [
        "There's a mix of light and heavy users—offering flexible plans could improve customer satisfaction.\n",
        "\n",
        "-Some customers use very little data — a cheaper, limited-data plan might attract them.\n",
        "\n",
        "-High variation in calling and data usage suggests different customer segments exist.\n",
        "\n",
        "-customers of 35-66 years dominate — marketing strategies can be tailored to this group."
      ]
    },
    {
      "cell_type": "markdown",
      "metadata": {
        "id": "WuOF_pwHhyki"
      },
      "source": [
        "## Step 1 : Data Preprocessing"
      ]
    },
    {
      "cell_type": "code",
      "execution_count": 67,
      "metadata": {
        "colab": {
          "base_uri": "https://localhost:8080/",
          "height": 397
        },
        "id": "jxP53nVv_c1j",
        "outputId": "416f0205-47f3-45f4-9db3-b39ab9f19133"
      },
      "outputs": [
        {
          "data": {
            "text/html": [
              "<div>\n",
              "<style scoped>\n",
              "    .dataframe tbody tr th:only-of-type {\n",
              "        vertical-align: middle;\n",
              "    }\n",
              "\n",
              "    .dataframe tbody tr th {\n",
              "        vertical-align: top;\n",
              "    }\n",
              "\n",
              "    .dataframe thead th {\n",
              "        text-align: right;\n",
              "    }\n",
              "</style>\n",
              "<table border=\"1\" class=\"dataframe\">\n",
              "  <thead>\n",
              "    <tr style=\"text-align: right;\">\n",
              "      <th></th>\n",
              "      <th>0</th>\n",
              "    </tr>\n",
              "  </thead>\n",
              "  <tbody>\n",
              "    <tr>\n",
              "      <th>CustomerID</th>\n",
              "      <td>0</td>\n",
              "    </tr>\n",
              "    <tr>\n",
              "      <th>Age</th>\n",
              "      <td>0</td>\n",
              "    </tr>\n",
              "    <tr>\n",
              "      <th>Location</th>\n",
              "      <td>0</td>\n",
              "    </tr>\n",
              "    <tr>\n",
              "      <th>PlanType</th>\n",
              "      <td>0</td>\n",
              "    </tr>\n",
              "    <tr>\n",
              "      <th>AverageCallDuration</th>\n",
              "      <td>0</td>\n",
              "    </tr>\n",
              "    <tr>\n",
              "      <th>DataUsage</th>\n",
              "      <td>0</td>\n",
              "    </tr>\n",
              "    <tr>\n",
              "      <th>NumberOfCalls</th>\n",
              "      <td>0</td>\n",
              "    </tr>\n",
              "    <tr>\n",
              "      <th>MonthlyCharges</th>\n",
              "      <td>0</td>\n",
              "    </tr>\n",
              "    <tr>\n",
              "      <th>PaymentMethod</th>\n",
              "      <td>0</td>\n",
              "    </tr>\n",
              "    <tr>\n",
              "      <th>ChurnStatus</th>\n",
              "      <td>0</td>\n",
              "    </tr>\n",
              "  </tbody>\n",
              "</table>\n",
              "</div><br><label><b>dtype:</b> int64</label>"
            ],
            "text/plain": [
              "CustomerID             0\n",
              "Age                    0\n",
              "Location               0\n",
              "PlanType               0\n",
              "AverageCallDuration    0\n",
              "DataUsage              0\n",
              "NumberOfCalls          0\n",
              "MonthlyCharges         0\n",
              "PaymentMethod          0\n",
              "ChurnStatus            0\n",
              "dtype: int64"
            ]
          },
          "execution_count": 67,
          "metadata": {},
          "output_type": "execute_result"
        }
      ],
      "source": [
        "# Check for missing values\n",
        "df.isnull().sum()"
      ]
    },
    {
      "cell_type": "markdown",
      "metadata": {
        "id": "tD9aENRODv4e"
      },
      "source": [
        "**Description:**\n",
        "\n",
        "I started by checking for missing values because they can affect the accuracy of analysis and models. If missing values were present, they would need to be handled appropriately—either by filling them in or dropping the affected rows/columns.\n",
        "\n",
        "**My Observation:**\n",
        "\n",
        "There were no missing values in this dataset, which makes preprocessing easier. Since this data was randomly generated, it is already complete and clean."
      ]
    },
    {
      "cell_type": "code",
      "execution_count": 68,
      "metadata": {
        "id": "5-AFBEijAnOs"
      },
      "outputs": [],
      "source": [
        "#Handle missing values (Drop or Fill)\n",
        "#df.fillna(df.median(), inplace=True)  # Fill missing numerical values with median\n"
      ]
    },
    {
      "cell_type": "markdown",
      "metadata": {
        "id": "exPDQTVTD4Ot"
      },
      "source": [
        "**Description:**\n",
        "\n",
        "Normally, missing values can be handled by filling them with statistical measures like the mean, median, or mode. Since missing data can cause issues in modeling, it’s important to address them properly.\n",
        "\n",
        "**My Observation:**\n",
        "\n",
        "Since there were no missing values, this step wasn’t necessary. However, in real-world datasets, missing values are common, and choosing the right strategy to fill them is important."
      ]
    },
    {
      "cell_type": "code",
      "execution_count": 69,
      "metadata": {
        "id": "EFHHapJk_zOq"
      },
      "outputs": [],
      "source": [
        "# Remove duplicate rows (if any)\n",
        "df.drop_duplicates(inplace=True)\n"
      ]
    },
    {
      "cell_type": "code",
      "execution_count": 70,
      "metadata": {
        "colab": {
          "base_uri": "https://localhost:8080/"
        },
        "id": "Gb6BwU3PC5jT",
        "outputId": "04443ea5-39b8-4dc7-f867-94426fddbf5d"
      },
      "outputs": [
        {
          "data": {
            "text/plain": [
              "(1000, 10)"
            ]
          },
          "execution_count": 70,
          "metadata": {},
          "output_type": "execute_result"
        }
      ],
      "source": [
        "df.shape"
      ]
    },
    {
      "cell_type": "markdown",
      "metadata": {
        "id": "NzwsAuAREJQM"
      },
      "source": [
        "**Description:**\n",
        "\n",
        "Duplicate data can negatively impact analysis by giving misleading insights and making models biased. So, I checked for and removed any duplicate rows.\n",
        "\n",
        "**My Observation:**\n",
        "\n",
        "There were no duplicate values in the dataset. This confirms that every row represents a unique customer, which is great for analysis. In real datasets, duplicates often occur due to data entry errors or system glitches."
      ]
    },
    {
      "cell_type": "code",
      "execution_count": 71,
      "metadata": {
        "colab": {
          "base_uri": "https://localhost:8080/",
          "height": 545
        },
        "id": "H187lROAACYT",
        "outputId": "57180788-dd01-4c32-fe2c-213ff645cf03"
      },
      "outputs": [
        {
          "data": {
            "image/png": "[encoded data removed]",
            "text/plain": [
              "<Figure size 1200x600 with 1 Axes>"
            ]
          },
          "metadata": {},
          "output_type": "display_data"
        }
      ],
      "source": [
        "# Check for outliers using box plots\n",
        "plt.figure(figsize=(12, 6))\n",
        "sns.boxplot(data=df.select_dtypes(include=['int64', 'float64']))\n",
        "plt.title(\"Boxplot for Outlier Detection\")\n",
        "plt.show()"
      ]
    },
    {
      "cell_type": "markdown",
      "metadata": {
        "id": "N4Y0bRjbEmm6"
      },
      "source": [
        "**Description:**\n",
        "\n",
        "Outliers are extreme values that can distort analysis and affect model performance. I used a box plot to visualize numerical features and check for outliers. If too many outliers were present, I would have considered handling them.\n",
        "\n",
        "**My Observation:**\n",
        "\n",
        "There were no outliers in the dataset. This is because the data was randomly generated and likely designed to avoid extreme values. In real-world datasets, outliers are common, and they need careful handling.\n",
        "\n"
      ]
    },
    {
      "cell_type": "markdown",
      "metadata": {
        "id": "IBC-yUkfiBYo"
      },
      "source": [
        "## Step 2 : Exploratory Data Analysis (EDA)"
      ]
    },
    {
      "cell_type": "markdown",
      "metadata": {
        "id": "NUsdhGM9TymN"
      },
      "source": [
        "**Univariate Analyis**"
      ]
    },
    {
      "cell_type": "code",
      "execution_count": 72,
      "metadata": {
        "colab": {
          "base_uri": "https://localhost:8080/",
          "height": 444
        },
        "id": "f6QiqqxcFSrG",
        "outputId": "f7471037-bc28-4ffe-f760-d531e054060b"
      },
      "outputs": [
        {
          "data": {
            "image/png": "[encoded data removed]",
            "text/plain": [
              "<Figure size 500x500 with 1 Axes>"
            ]
          },
          "metadata": {},
          "output_type": "display_data"
        }
      ],
      "source": [
        "# Churn distribution\n",
        "plt.figure(figsize=(5,5))\n",
        "df[\"ChurnStatus\"].value_counts().plot.pie(autopct='%1.1f%%', colors=[\"red\", \"lightblue\"])\n",
        "plt.ylabel(\"\")\n",
        "plt.title(\"Churn vs. No Churn Distribution\")\n",
        "plt.show()"
      ]
    },
    {
      "cell_type": "markdown",
      "metadata": {
        "id": "NgKT3QlqI_m0"
      },
      "source": [
        "**Description:**\n",
        "\n",
        "Here, I am visualizing the number of customers who churned (left the company) versus those who stayed. This will help me understand the overall churn rate and how big the problem is. A high churn rate means many customers are leaving, which is a serious issue for the business.\n",
        "\n",
        "**My Observation:**\n",
        "\n",
        "From the chart, it's clear that the majority of customers have not churned. The number of customers who stayed is significantly higher than those who left. This indicates that customer retention is relatively strong, but we still need to analyze why some customers are leaving.\n",
        "\n",
        "\n",
        "\n"
      ]
    },
    {
      "cell_type": "code",
      "execution_count": 73,
      "metadata": {
        "colab": {
          "base_uri": "https://localhost:8080/",
          "height": 487
        },
        "id": "T2Gm1Qssav1m",
        "outputId": "b3680b28-b804-4ddc-83db-ac814851dd60"
      },
      "outputs": [
        {
          "data": {
            "image/png": "[encoded data removed]",
            "text/plain": [
              "<Figure size 800x500 with 1 Axes>"
            ]
          },
          "metadata": {},
          "output_type": "display_data"
        }
      ],
      "source": [
        "#Age Distribution of Customers\n",
        "plt.figure(figsize=(8, 5))\n",
        "sns.histplot(df['Age'], bins=20, kde=True, color='skyblue')  # kde=True adds a smooth curve\n",
        "plt.title('Age Distribution')\n",
        "plt.xlabel('Age')\n",
        "plt.ylabel('Count')\n",
        "plt.show()"
      ]
    },
    {
      "cell_type": "markdown",
      "metadata": {
        "id": "Vk8jlEknK-bB"
      },
      "source": [
        "**My OBservation:**\n",
        "\n",
        "-The histogram shows the distribution of customers' ages.\n",
        "\n",
        "-There are peaks around ages 20 and 80, meaning more customers belong to these age groups.\n",
        "\n",
        "-The number of customers between 30-70 is relatively consistent but fluctuates."
      ]
    },
    {
      "cell_type": "code",
      "execution_count": 74,
      "metadata": {
        "colab": {
          "base_uri": "https://localhost:8080/",
          "height": 487
        },
        "id": "5XU-QRhuLWZl",
        "outputId": "08b9e95b-7dfa-4ad9-fda2-985f603569d6"
      },
      "outputs": [
        {
          "data": {
            "image/png": "[encoded data removed]",
            "text/plain": [
              "<Figure size 800x500 with 1 Axes>"
            ]
          },
          "metadata": {},
          "output_type": "display_data"
        }
      ],
      "source": [
        "# Monthly Charges\n",
        "plt.figure(figsize=(8,5))\n",
        "sns.histplot(df[\"MonthlyCharges\"], bins=30, kde=True, color=\"red\")\n",
        "plt.xlabel(\"Monthly Charges\")\n",
        "plt.ylabel(\"Count\")\n",
        "plt.title(\"Distribution of Monthly Charges\")\n",
        "plt.show()"
      ]
    },
    {
      "cell_type": "markdown",
      "metadata": {
        "id": "yy0gV67aMMvO"
      },
      "source": [
        "**Description:**\n",
        "\n",
        "-The histogram represents the distribution of Monthly Charges for customers.\n",
        "\n",
        "-The x-axis represents the Monthly Charges, while the y-axis represents the Count of customers paying that amount.\n",
        "\n",
        "**My Observation:**\n",
        "\n",
        "-The charges are spread across a wide range (approximately 20 to 150).\n",
        "\n",
        "-Most customers are in the mid-range of monthly charges (40-120).\n",
        "\n",
        "-The KDE curve suggests a slight skew towards higher monthly charges."
      ]
    },
    {
      "cell_type": "code",
      "execution_count": 75,
      "metadata": {
        "colab": {
          "base_uri": "https://localhost:8080/",
          "height": 372
        },
        "id": "-lgUo6PENb1m",
        "outputId": "d5b44b52-58f1-4821-8320-ede8776af202"
      },
      "outputs": [
        {
          "data": {
            "image/png": "[encoded data removed]",
            "text/plain": [
              "<Figure size 600x400 with 1 Axes>"
            ]
          },
          "metadata": {},
          "output_type": "display_data"
        }
      ],
      "source": [
        "#Data Usage\n",
        "plt.figure(figsize=(6,4))\n",
        "sns.boxplot(y=df[\"DataUsage\"], color=\"orange\")\n",
        "plt.ylabel(\"Data Usage\")\n",
        "plt.title(\"Boxplot of Data Usage\")\n",
        "plt.show()"
      ]
    },
    {
      "cell_type": "markdown",
      "metadata": {
        "id": "73Tc7_YcNrFc"
      },
      "source": [
        "**Description:**\n",
        "\n",
        "The boxplot represents the distribution of data usage among users. The box in the plot covers the middle 50% of the values, known as the Interquartile Range (IQR).\n",
        "\n",
        "-The bottom of the box (Q1 - 25th percentile) marks where the lowest 25% of data usage falls.\n",
        "\n",
        "-The top of the box (Q3 - 75th percentile) marks where the highest 25% of data usage falls.\n",
        "\n",
        "-The line inside the box represents the median (50th percentile), which is the middle value of the dataset.\n",
        "\n",
        "-The whiskers extend to show the overall range of data usage, excluding outliers (if any).\n",
        "\n",
        "**My Observation:**\n",
        "\n",
        "-The Interquartile Range (IQR) is large, meaning data usage varies significantly among users.\n",
        "\n",
        "-The median is near the center of the box, indicating that the distribution is fairly balanced.\n",
        "\n",
        "-The long whiskers suggest high variability, meaning some users have very low data usage while others have very high usage.\n",
        "\n",
        "-This indicates that data consumption patterns are not uniform, and users have diverse usage behaviors."
      ]
    },
    {
      "cell_type": "code",
      "execution_count": 76,
      "metadata": {
        "colab": {
          "base_uri": "https://localhost:8080/",
          "height": 497
        },
        "id": "ywF6ovaRRHVb",
        "outputId": "4ce3fb3d-955b-46ff-8946-4a70bc1cfa71"
      },
      "outputs": [
        {
          "name": "stderr",
          "output_type": "stream",
          "text": [
            "<ipython-input-76-0d682f2d1372>:3: FutureWarning: \n",
            "\n",
            "Passing `palette` without assigning `hue` is deprecated and will be removed in v0.14.0. Assign the `x` variable to `hue` and set `legend=False` for the same effect.\n",
            "\n",
            "  sns.countplot(x=df[\"Location\"], palette=\"coolwarm\")\n"
          ]
        },
        {
          "data": {
            "image/png": "[encoded data removed]",
            "text/plain": [
              "<Figure size 600x400 with 1 Axes>"
            ]
          },
          "metadata": {},
          "output_type": "display_data"
        }
      ],
      "source": [
        "#Number of Customers in Each Location\n",
        "plt.figure(figsize=(6,4))\n",
        "sns.countplot(x=df[\"Location\"], palette=\"coolwarm\")\n",
        "plt.xlabel(\"Location\")\n",
        "plt.ylabel(\"Count\")\n",
        "plt.title(\"Number of Customers in Each Location\")\n",
        "plt.show()"
      ]
    },
    {
      "cell_type": "markdown",
      "metadata": {
        "id": "zmgLcz40R_wz"
      },
      "source": [
        "The Urban area has the highest number of customers.\n",
        "\n",
        "The Rural area has fewer customers than Urban but more than Suburban.\n",
        "\n",
        "The Suburban area has the lowest number of customers."
      ]
    },
    {
      "cell_type": "markdown",
      "metadata": {
        "id": "Zd2yv35MUel5"
      },
      "source": [
        "**Bivariate Analayis**"
      ]
    },
    {
      "cell_type": "code",
      "execution_count": 77,
      "metadata": {
        "colab": {
          "base_uri": "https://localhost:8080/",
          "height": 487
        },
        "id": "2xEUeXlJTuB2",
        "outputId": "73426227-3510-415d-91ff-03fb7ff07b6e"
      },
      "outputs": [
        {
          "data": {
            "image/png": "[encoded data removed]",
            "text/plain": [
              "<Figure size 800x500 with 1 Axes>"
            ]
          },
          "metadata": {},
          "output_type": "display_data"
        }
      ],
      "source": [
        "#Churn by Location\n",
        "plt.figure(figsize=(8,5))\n",
        "sns.countplot(x=\"Location\", hue=\"ChurnStatus\", data=df) #palette=\"coolwarm\")\n",
        "plt.title(\"Churn by Location\")\n",
        "plt.show()"
      ]
    },
    {
      "cell_type": "markdown",
      "metadata": {
        "id": "OdFK4Nt6WBwE"
      },
      "source": [
        "**Description:**\n",
        "\n",
        "This visualization shows the distribution of customer churn based on location (Urban, Rural, and Suburban). The blue bars represent customers who did not churn, while the orange bars represent customers who churned.\n",
        "\n",
        "**My Observations:**\n",
        "\n",
        "-Urban areas have the highest customer base but also the highest churn rate.\n",
        "\n",
        "-Rural areas have a lower customer count, but a notable churn percentage.\n",
        "\n",
        "-Suburban areas have the lowest churn, indicating better customer retention.\n",
        "\n",
        "**Why is churn higher in urban areas?**\n",
        "\n",
        "Customers in urban areas might have more options and switch to competitors easily.\n",
        "\n",
        "There could be issues with service quality or higher pricing that drive customers away."
      ]
    },
    {
      "cell_type": "code",
      "execution_count": 78,
      "metadata": {
        "colab": {
          "base_uri": "https://localhost:8080/",
          "height": 410
        },
        "id": "4Oc5d6PbJSha",
        "outputId": "6a26b99f-b8a9-41d6-ad9e-71828dab44dc"
      },
      "outputs": [
        {
          "data": {
            "image/png": "[encoded data removed]",
            "text/plain": [
              "<Figure size 600x400 with 1 Axes>"
            ]
          },
          "metadata": {},
          "output_type": "display_data"
        }
      ],
      "source": [
        "# Plan Type vs Churn\n",
        "plt.figure(figsize=(6, 4))\n",
        "sns.countplot(x=\"PlanType\", hue=\"ChurnStatus\", data=df)\n",
        "plt.title(\"Plan Type vs Churn\")\n",
        "plt.show()"
      ]
    },
    {
      "cell_type": "markdown",
      "metadata": {
        "id": "NXIo3dSsJ80O"
      },
      "source": [
        "**Description:**\n",
        "\n",
        "In this step, I am analyzing how different plan types affect customer churn. The graph will show whether certain plans have a higher churn rate. If one plan has more customers leaving, it means the plan might not be satisfying the users.\n",
        "\n",
        "**My Observation:**\n",
        "\n",
        "It appears that more churn happens in the Basic plan compared to the Premium plan. While both plans have customers leaving, the churn rate is relatively higher for Basic plan users.\n",
        "\n",
        "**Why churn might be higher in Basic?**\n",
        "\n",
        "This could mean that customers on the Basic plan may not find enough value in the service, leading them to leave. Further analysis is needed to check if pricing, features, or service quality are influencing this."
      ]
    },
    {
      "cell_type": "code",
      "execution_count": 79,
      "metadata": {
        "colab": {
          "base_uri": "https://localhost:8080/",
          "height": 410
        },
        "id": "ZP6JDLOWJYs6",
        "outputId": "87cf3549-d05d-4b8f-cb02-443a89e4908a"
      },
      "outputs": [
        {
          "data": {
            "image/png": "[encoded data removed]",
            "text/plain": [
              "<Figure size 600x400 with 1 Axes>"
            ]
          },
          "metadata": {},
          "output_type": "display_data"
        }
      ],
      "source": [
        "# Monthly Charges vs Churn\n",
        "plt.figure(figsize=(6, 4))\n",
        "sns.boxplot(x=\"ChurnStatus\", y=\"MonthlyCharges\", data=df)\n",
        "plt.title(\"Monthly Charges vs Churn\")\n",
        "plt.show()"
      ]
    },
    {
      "cell_type": "markdown",
      "metadata": {
        "id": "9ZlGtzyqKwfz"
      },
      "source": [
        "**Description:**\n",
        "\n",
        "This boxplot helps me check if higher monthly charges lead to more churn. If customers with higher bills are leaving more, it might mean the pricing is too high or not offering enough value. This insight can help in adjusting pricing strategies.\n",
        "\n",
        "**My Observations:**\n",
        "\n",
        "-The distribution of monthly charges for both churned and non-churned customers looks quite similar.\n",
        "\n",
        "-The median monthly charge is almost the same for both groups, suggesting that churn is not strongly dependent on price alone.\n",
        "\n",
        "-The range of values (from around 20 to 150) is almost identical for both churned and non-churned customers.\n",
        "\n",
        "-Since both groups have a similar distribution, it may be necessary to explore other factors.\n",
        "\n"
      ]
    },
    {
      "cell_type": "code",
      "execution_count": 80,
      "metadata": {
        "colab": {
          "base_uri": "https://localhost:8080/",
          "height": 410
        },
        "id": "8iXfEeGtJYpl",
        "outputId": "a01c92ad-64a6-4014-c56b-4558c0d4cffd"
      },
      "outputs": [
        {
          "data": {
            "image/png": "[encoded data removed]",
            "text/plain": [
              "<Figure size 600x400 with 1 Axes>"
            ]
          },
          "metadata": {},
          "output_type": "display_data"
        }
      ],
      "source": [
        "# Payment Method vs Churn\n",
        "plt.figure(figsize=(6, 4))\n",
        "sns.countplot(x=\"PaymentMethod\", hue=\"ChurnStatus\", data=df)\n",
        "plt.title(\"Payment Method vs Churn\")\n",
        "plt.show()"
      ]
    },
    {
      "cell_type": "markdown",
      "metadata": {
        "id": "lr62LVusLAq1"
      },
      "source": [
        "**Description:**\n",
        "\n",
        "Here, I am checking whether the payment method influences churn. Some payment methods might be inconvenient, causing customers to leave. If one payment method has a significantly higher churn rate, the company can focus on improving or offering better alternatives.\n",
        "\n",
        "**My Observations:**\n",
        "\n",
        " More customers who pay using Credit Cards have churned compared to those using Bank Transfer.\n",
        "\n",
        "**Why churn might be higher for credit card?**\n",
        "\n",
        "-Possible Reasons: This could be because Credit Card payments are easier to cancel or due to failed automatic payments."
      ]
    },
    {
      "cell_type": "code",
      "execution_count": 81,
      "metadata": {
        "colab": {
          "base_uri": "https://localhost:8080/",
          "height": 410
        },
        "id": "W4RHpwDqTetf",
        "outputId": "e84b3f34-fe1d-4042-97eb-523127c10a3f"
      },
      "outputs": [
        {
          "data": {
            "image/png": "[encoded data removed]",
            "text/plain": [
              "<Figure size 600x400 with 1 Axes>"
            ]
          },
          "metadata": {},
          "output_type": "display_data"
        }
      ],
      "source": [
        "#Churn Rate by Age Category\n",
        "df['AgeCategory'] = df['Age'].apply(lambda x: 'Younger' if x < 25 else ('Adult' if x < 60 else 'Old'))\n",
        "\n",
        "plt.figure(figsize=(6,4))\n",
        "sns.countplot(x='AgeCategory', hue='ChurnStatus', data=df)\n",
        "plt.title('Churn Rate by Age Category')\n",
        "plt.xlabel('Age Category')\n",
        "plt.ylabel('Count')\n",
        "plt.legend(['Stayed', 'Churned'])\n",
        "plt.show()"
      ]
    },
    {
      "cell_type": "markdown",
      "metadata": {
        "id": "M89913JFbTM-"
      },
      "source": [
        "**Description**\n",
        "\n",
        "The graph displays customer churn rates across different age groups. Adult customers (< 60) have the highest churn, while younger users (< 25) churn the least. old- aged groups (> 60 ) show moderate churn but still need attention.\n",
        "\n"
      ]
    },
    {
      "cell_type": "markdown",
      "metadata": {
        "id": "UxZuREszZmW4"
      },
      "source": [
        "**Correlation Analysis**"
      ]
    },
    {
      "cell_type": "code",
      "execution_count": 82,
      "metadata": {
        "colab": {
          "base_uri": "https://localhost:8080/",
          "height": 545
        },
        "id": "osGm6qFyK_lE",
        "outputId": "a6eff0d1-9e15-418b-d7be-89d2bed9679c"
      },
      "outputs": [
        {
          "data": {
            "image/png": "[encoded data removed]",
            "text/plain": [
              "<Figure size 1000x600 with 2 Axes>"
            ]
          },
          "metadata": {},
          "output_type": "display_data"
        }
      ],
      "source": [
        "#correlation\n",
        "plt.figure(figsize=(10, 6))\n",
        "sns.heatmap(df.select_dtypes(include=['number']).corr(), annot=True, cmap=\"coolwarm\")\n",
        "plt.title(\"Correlation Heatmap\")\n",
        "plt.show()"
      ]
    },
    {
      "cell_type": "markdown",
      "metadata": {
        "id": "ONboZKuSLDIv"
      },
      "source": [
        "**Description:**\n",
        "\n",
        "This heatmap helps me understand how different features in the dataset are related to each other. For example, if MonthlyCharges has a strong positive correlation with Churn, then high charges might be a key reason why customers leave. This step is important for feature selection in machine learning.\n",
        "\n",
        "The heatmap shows the correlation coefficients between numerical variables.\n",
        "\n",
        "* Correlation values range from -1 to 1:\n",
        "\n",
        "   1.00 (Red) : Perfect positive correlation.\n",
        "\n",
        "  -1.00 (Blue) : Perfect negative correlation.\n",
        "\n",
        "   0.00 (Dark Blue) : No correlation.\n",
        "\n",
        "* Each variable is perfectly correlated with itself.\n",
        "\n",
        "**My Observations**\n",
        "\n",
        "1. Most values are close to 0.00\n",
        "\n",
        "  This means that most features do not have a strong relationship with each other.\n",
        "\n",
        "2. Slight positive correlations\n",
        "\n",
        "  NumberOfCalls & DataUsage (0.04) : People who make more calls might also use more data, but the relationship is very weak.\n",
        "\n",
        "  MonthlyCharges & AverageCallDuration (0.04) : Slight connection, meaning that longer calls might lead to slightly higher bills.\n",
        "\n",
        "3. Near-zero or negligible correlations\n",
        "\n",
        "  Age & MonthlyCharges (0.00) : No relationship; a person's age doesn’t affect their monthly charges.\n",
        "\n",
        "  NumberOfCalls & MonthlyCharges (-0.02) : No significant connection between the number of calls and the total bill.\n",
        "\n"
      ]
    },
    {
      "cell_type": "code",
      "execution_count": 83,
      "metadata": {
        "colab": {
          "base_uri": "https://localhost:8080/"
        },
        "id": "UgxKEwOuay4v",
        "outputId": "8b99f82c-b4b4-4b35-acbb-cdc242f0da58"
      },
      "outputs": [
        {
          "name": "stdout",
          "output_type": "stream",
          "text": [
            "CustomerID              object\n",
            "Age                      int64\n",
            "Location                object\n",
            "PlanType                object\n",
            "AverageCallDuration    float64\n",
            "DataUsage              float64\n",
            "NumberOfCalls            int64\n",
            "MonthlyCharges         float64\n",
            "PaymentMethod           object\n",
            "ChurnStatus             object\n",
            "AgeCategory             object\n",
            "dtype: object\n"
          ]
        }
      ],
      "source": [
        "print(df.dtypes)"
      ]
    },
    {
      "cell_type": "code",
      "execution_count": 84,
      "metadata": {
        "id": "XG0OYdct_5wU"
      },
      "outputs": [],
      "source": [
        "from sklearn.preprocessing import LabelEncoder, StandardScaler\n",
        "\n",
        "# Convert categorical variables to numerical (Encoding)\n",
        "label_enc = LabelEncoder()\n",
        "categorical_cols = [\"PlanType\", \"Location\", \"PaymentMethod\", \"ChurnStatus\"]\n",
        "\n",
        "for col in categorical_cols:\n",
        "    df[col] = label_enc.fit_transform(df[col])\n"
      ]
    },
    {
      "cell_type": "code",
      "execution_count": 85,
      "metadata": {
        "colab": {
          "base_uri": "https://localhost:8080/",
          "height": 206
        },
        "id": "qS3wippT_8XX",
        "outputId": "de557862-dcfa-4d5a-ec7c-3d6fe15efc2c"
      },
      "outputs": [
        {
          "data": {
            "application/vnd.google.colaboratory.intrinsic+json": {
              "summary": "{\n  \"name\": \"df\",\n  \"rows\": 1000,\n  \"fields\": [\n    {\n      \"column\": \"CustomerID\",\n      \"properties\": {\n        \"dtype\": \"string\",\n        \"num_unique_values\": 1000,\n        \"samples\": [\n          \"C0522\",\n          \"C0738\",\n          \"C0741\"\n        ],\n        \"semantic_type\": \"\",\n        \"description\": \"\"\n      }\n    },\n    {\n      \"column\": \"Age\",\n      \"properties\": {\n        \"dtype\": \"number\",\n        \"std\": 18,\n        \"min\": 18,\n        \"max\": 79,\n        \"num_unique_values\": 62,\n        \"samples\": [\n          51,\n          18,\n          56\n        ],\n        \"semantic_type\": \"\",\n        \"description\": \"\"\n      }\n    },\n    {\n      \"column\": \"Location\",\n      \"properties\": {\n        \"dtype\": \"number\",\n        \"std\": 0,\n        \"min\": 0,\n        \"max\": 2,\n        \"num_unique_values\": 3,\n        \"samples\": [\n          2,\n          0,\n          1\n        ],\n        \"semantic_type\": \"\",\n        \"description\": \"\"\n      }\n    },\n    {\n      \"column\": \"PlanType\",\n      \"properties\": {\n        \"dtype\": \"number\",\n        \"std\": 0,\n        \"min\": 0,\n        \"max\": 1,\n        \"num_unique_values\": 2,\n        \"samples\": [\n          1,\n          0\n        ],\n        \"semantic_type\": \"\",\n        \"description\": \"\"\n      }\n    },\n    {\n      \"column\": \"AverageCallDuration\",\n      \"properties\": {\n        \"dtype\": \"number\",\n        \"std\": 8.236724683846356,\n        \"min\": 1.0128406616790286,\n        \"max\": 29.98677364285373,\n        \"num_unique_values\": 1000,\n        \"samples\": [\n          3.990519509834198,\n          15.856257960061068\n        ],\n        \"semantic_type\": \"\",\n        \"description\": \"\"\n      }\n    },\n    {\n      \"column\": \"DataUsage\",\n      \"properties\": {\n        \"dtype\": \"number\",\n        \"std\": 14.403498496760365,\n        \"min\": 0.5092331444478242,\n        \"max\": 49.88232970144358,\n        \"num_unique_values\": 1000,\n        \"samples\": [\n          32.07614279037159,\n          5.763696218737245\n        ],\n        \"semantic_type\": \"\",\n        \"description\": \"\"\n      }\n    },\n    {\n      \"column\": \"NumberOfCalls\",\n      \"properties\": {\n        \"dtype\": \"number\",\n        \"std\": 83,\n        \"min\": 10,\n        \"max\": 299,\n        \"num_unique_values\": 276,\n        \"samples\": [\n          146,\n          228\n        ],\n        \"semantic_type\": \"\",\n        \"description\": \"\"\n      }\n    },\n    {\n      \"column\": \"MonthlyCharges\",\n      \"properties\": {\n        \"dtype\": \"number\",\n        \"std\": 37.41514198974679,\n        \"min\": 20.509388743642123,\n        \"max\": 149.9298885377575,\n        \"num_unique_values\": 1000,\n        \"samples\": [\n          96.210614841499,\n          30.651997074959\n        ],\n        \"semantic_type\": \"\",\n        \"description\": \"\"\n      }\n    },\n    {\n      \"column\": \"PaymentMethod\",\n      \"properties\": {\n        \"dtype\": \"number\",\n        \"std\": 0,\n        \"min\": 0,\n        \"max\": 1,\n        \"num_unique_values\": 2,\n        \"samples\": [\n          1,\n          0\n        ],\n        \"semantic_type\": \"\",\n        \"description\": \"\"\n      }\n    },\n    {\n      \"column\": \"ChurnStatus\",\n      \"properties\": {\n        \"dtype\": \"number\",\n        \"std\": 0,\n        \"min\": 0,\n        \"max\": 1,\n        \"num_unique_values\": 2,\n        \"samples\": [\n          1,\n          0\n        ],\n        \"semantic_type\": \"\",\n        \"description\": \"\"\n      }\n    },\n    {\n      \"column\": \"AgeCategory\",\n      \"properties\": {\n        \"dtype\": \"category\",\n        \"num_unique_values\": 3,\n        \"samples\": [\n          \"Adult\",\n          \"Old\"\n        ],\n        \"semantic_type\": \"\",\n        \"description\": \"\"\n      }\n    }\n  ]\n}",
              "type": "dataframe",
              "variable_name": "df"
            },
            "text/html": [
              "\n",
              "  <div id=\"df-0bfed508-e6be-4c49-84ab-38d18b9ba5a0\" class=\"colab-df-container\">\n",
              "    <div>\n",
              "<style scoped>\n",
              "    .dataframe tbody tr th:only-of-type {\n",
              "        vertical-align: middle;\n",
              "    }\n",
              "\n",
              "    .dataframe tbody tr th {\n",
              "        vertical-align: top;\n",
              "    }\n",
              "\n",
              "    .dataframe thead th {\n",
              "        text-align: right;\n",
              "    }\n",
              "</style>\n",
              "<table border=\"1\" class=\"dataframe\">\n",
              "  <thead>\n",
              "    <tr style=\"text-align: right;\">\n",
              "      <th></th>\n",
              "      <th>CustomerID</th>\n",
              "      <th>Age</th>\n",
              "      <th>Location</th>\n",
              "      <th>PlanType</th>\n",
              "      <th>AverageCallDuration</th>\n",
              "      <th>DataUsage</th>\n",
              "      <th>NumberOfCalls</th>\n",
              "      <th>MonthlyCharges</th>\n",
              "      <th>PaymentMethod</th>\n",
              "      <th>ChurnStatus</th>\n",
              "      <th>AgeCategory</th>\n",
              "    </tr>\n",
              "  </thead>\n",
              "  <tbody>\n",
              "    <tr>\n",
              "      <th>0</th>\n",
              "      <td>C0001</td>\n",
              "      <td>56</td>\n",
              "      <td>2</td>\n",
              "      <td>0</td>\n",
              "      <td>26.289402</td>\n",
              "      <td>8.821847</td>\n",
              "      <td>135</td>\n",
              "      <td>69.987056</td>\n",
              "      <td>0</td>\n",
              "      <td>0</td>\n",
              "      <td>Adult</td>\n",
              "    </tr>\n",
              "    <tr>\n",
              "      <th>1</th>\n",
              "      <td>C0002</td>\n",
              "      <td>69</td>\n",
              "      <td>0</td>\n",
              "      <td>0</td>\n",
              "      <td>16.289559</td>\n",
              "      <td>24.010073</td>\n",
              "      <td>235</td>\n",
              "      <td>65.104664</td>\n",
              "      <td>1</td>\n",
              "      <td>0</td>\n",
              "      <td>Old</td>\n",
              "    </tr>\n",
              "    <tr>\n",
              "      <th>2</th>\n",
              "      <td>C0003</td>\n",
              "      <td>46</td>\n",
              "      <td>2</td>\n",
              "      <td>0</td>\n",
              "      <td>19.343779</td>\n",
              "      <td>3.233515</td>\n",
              "      <td>230</td>\n",
              "      <td>76.134922</td>\n",
              "      <td>0</td>\n",
              "      <td>1</td>\n",
              "      <td>Adult</td>\n",
              "    </tr>\n",
              "    <tr>\n",
              "      <th>3</th>\n",
              "      <td>C0004</td>\n",
              "      <td>32</td>\n",
              "      <td>1</td>\n",
              "      <td>0</td>\n",
              "      <td>19.689638</td>\n",
              "      <td>47.147981</td>\n",
              "      <td>220</td>\n",
              "      <td>121.631377</td>\n",
              "      <td>0</td>\n",
              "      <td>0</td>\n",
              "      <td>Adult</td>\n",
              "    </tr>\n",
              "    <tr>\n",
              "      <th>4</th>\n",
              "      <td>C0005</td>\n",
              "      <td>60</td>\n",
              "      <td>0</td>\n",
              "      <td>0</td>\n",
              "      <td>24.774136</td>\n",
              "      <td>4.203650</td>\n",
              "      <td>34</td>\n",
              "      <td>82.942494</td>\n",
              "      <td>1</td>\n",
              "      <td>1</td>\n",
              "      <td>Old</td>\n",
              "    </tr>\n",
              "  </tbody>\n",
              "</table>\n",
              "</div>\n",
              "    <div class=\"colab-df-buttons\">\n",
              "\n",
              "  <div class=\"colab-df-container\">\n",
              "    <button class=\"colab-df-convert\" onclick=\"convertToInteractive('df-0bfed508-e6be-4c49-84ab-38d18b9ba5a0')\"\n",
              "            title=\"Convert this dataframe to an interactive table.\"\n",
              "            style=\"display:none;\">\n",
              "\n",
              "  <svg xmlns=\"http://www.w3.org/2000/svg\" height=\"24px\" viewBox=\"0 -960 960 960\">\n",
              "    <path d=\"M120-120v-720h720v720H120Zm60-500h600v-160H180v160Zm220 220h160v-160H400v160Zm0 220h160v-160H400v160ZM180-400h160v-160H180v160Zm440 0h160v-160H620v160ZM180-180h160v-160H180v160Zm440 0h160v-160H620v160Z\"/>\n",
              "  </svg>\n",
              "    </button>\n",
              "\n",
              "  <style>\n",
              "    .colab-df-container {\n",
              "      display:flex;\n",
              "      gap: 12px;\n",
              "    }\n",
              "\n",
              "    .colab-df-convert {\n",
              "      background-color: #E8F0FE;\n",
              "      border: none;\n",
              "      border-radius: 50%;\n",
              "      cursor: pointer;\n",
              "      display: none;\n",
              "      fill: #1967D2;\n",
              "      height: 32px;\n",
              "      padding: 0 0 0 0;\n",
              "      width: 32px;\n",
              "    }\n",
              "\n",
              "    .colab-df-convert:hover {\n",
              "      background-color: #E2EBFA;\n",
              "      box-shadow: 0px 1px 2px rgba(60, 64, 67, 0.3), 0px 1px 3px 1px rgba(60, 64, 67, 0.15);\n",
              "      fill: #174EA6;\n",
              "    }\n",
              "\n",
              "    .colab-df-buttons div {\n",
              "      margin-bottom: 4px;\n",
              "    }\n",
              "\n",
              "    [theme=dark] .colab-df-convert {\n",
              "      background-color: #3B4455;\n",
              "      fill: #D2E3FC;\n",
              "    }\n",
              "\n",
              "    [theme=dark] .colab-df-convert:hover {\n",
              "      background-color: #434B5C;\n",
              "      box-shadow: 0px 1px 3px 1px rgba(0, 0, 0, 0.15);\n",
              "      filter: drop-shadow(0px 1px 2px rgba(0, 0, 0, 0.3));\n",
              "      fill: #FFFFFF;\n",
              "    }\n",
              "  </style>\n",
              "\n",
              "    <script>\n",
              "      const buttonEl =\n",
              "        document.querySelector('#df-0bfed508-e6be-4c49-84ab-38d18b9ba5a0 button.colab-df-convert');\n",
              "      buttonEl.style.display =\n",
              "        google.colab.kernel.accessAllowed ? 'block' : 'none';\n",
              "\n",
              "      async function convertToInteractive(key) {\n",
              "        const element = document.querySelector('#df-0bfed508-e6be-4c49-84ab-38d18b9ba5a0');\n",
              "        const dataTable =\n",
              "          await google.colab.kernel.invokeFunction('convertToInteractive',\n",
              "                                                    [key], {});\n",
              "        if (!dataTable) return;\n",
              "\n",
              "        const docLinkHtml = 'Like what you see? Visit the ' +\n",
              "          '<a target=\"_blank\" href=https://colab.research.google.com/notebooks/data_table.ipynb>data table notebook</a>'\n",
              "          + ' to learn more about interactive tables.';\n",
              "        element.innerHTML = '';\n",
              "        dataTable['output_type'] = 'display_data';\n",
              "        await google.colab.output.renderOutput(dataTable, element);\n",
              "        const docLink = document.createElement('div');\n",
              "        docLink.innerHTML = docLinkHtml;\n",
              "        element.appendChild(docLink);\n",
              "      }\n",
              "    </script>\n",
              "  </div>\n",
              "\n",
              "\n",
              "<div id=\"df-a03fc11e-abf4-4cc8-9ed3-28d8d3798e9c\">\n",
              "  <button class=\"colab-df-quickchart\" onclick=\"quickchart('df-a03fc11e-abf4-4cc8-9ed3-28d8d3798e9c')\"\n",
              "            title=\"Suggest charts\"\n",
              "            style=\"display:none;\">\n",
              "\n",
              "<svg xmlns=\"http://www.w3.org/2000/svg\" height=\"24px\"viewBox=\"0 0 24 24\"\n",
              "     width=\"24px\">\n",
              "    <g>\n",
              "        <path d=\"M19 3H5c-1.1 0-2 .9-2 2v14c0 1.1.9 2 2 2h14c1.1 0 2-.9 2-2V5c0-1.1-.9-2-2-2zM9 17H7v-7h2v7zm4 0h-2V7h2v10zm4 0h-2v-4h2v4z\"/>\n",
              "    </g>\n",
              "</svg>\n",
              "  </button>\n",
              "\n",
              "<style>\n",
              "  .colab-df-quickchart {\n",
              "      --bg-color: #E8F0FE;\n",
              "      --fill-color: #1967D2;\n",
              "      --hover-bg-color: #E2EBFA;\n",
              "      --hover-fill-color: #174EA6;\n",
              "      --disabled-fill-color: #AAA;\n",
              "      --disabled-bg-color: #DDD;\n",
              "  }\n",
              "\n",
              "  [theme=dark] .colab-df-quickchart {\n",
              "      --bg-color: #3B4455;\n",
              "      --fill-color: #D2E3FC;\n",
              "      --hover-bg-color: #434B5C;\n",
              "      --hover-fill-color: #FFFFFF;\n",
              "      --disabled-bg-color: #3B4455;\n",
              "      --disabled-fill-color: #666;\n",
              "  }\n",
              "\n",
              "  .colab-df-quickchart {\n",
              "    background-color: var(--bg-color);\n",
              "    border: none;\n",
              "    border-radius: 50%;\n",
              "    cursor: pointer;\n",
              "    display: none;\n",
              "    fill: var(--fill-color);\n",
              "    height: 32px;\n",
              "    padding: 0;\n",
              "    width: 32px;\n",
              "  }\n",
              "\n",
              "  .colab-df-quickchart:hover {\n",
              "    background-color: var(--hover-bg-color);\n",
              "    box-shadow: 0 1px 2px rgba(60, 64, 67, 0.3), 0 1px 3px 1px rgba(60, 64, 67, 0.15);\n",
              "    fill: var(--button-hover-fill-color);\n",
              "  }\n",
              "\n",
              "  .colab-df-quickchart-complete:disabled,\n",
              "  .colab-df-quickchart-complete:disabled:hover {\n",
              "    background-color: var(--disabled-bg-color);\n",
              "    fill: var(--disabled-fill-color);\n",
              "    box-shadow: none;\n",
              "  }\n",
              "\n",
              "  .colab-df-spinner {\n",
              "    border: 2px solid var(--fill-color);\n",
              "    border-color: transparent;\n",
              "    border-bottom-color: var(--fill-color);\n",
              "    animation:\n",
              "      spin 1s steps(1) infinite;\n",
              "  }\n",
              "\n",
              "  @keyframes spin {\n",
              "    0% {\n",
              "      border-color: transparent;\n",
              "      border-bottom-color: var(--fill-color);\n",
              "      border-left-color: var(--fill-color);\n",
              "    }\n",
              "    20% {\n",
              "      border-color: transparent;\n",
              "      border-left-color: var(--fill-color);\n",
              "      border-top-color: var(--fill-color);\n",
              "    }\n",
              "    30% {\n",
              "      border-color: transparent;\n",
              "      border-left-color: var(--fill-color);\n",
              "      border-top-color: var(--fill-color);\n",
              "      border-right-color: var(--fill-color);\n",
              "    }\n",
              "    40% {\n",
              "      border-color: transparent;\n",
              "      border-right-color: var(--fill-color);\n",
              "      border-top-color: var(--fill-color);\n",
              "    }\n",
              "    60% {\n",
              "      border-color: transparent;\n",
              "      border-right-color: var(--fill-color);\n",
              "    }\n",
              "    80% {\n",
              "      border-color: transparent;\n",
              "      border-right-color: var(--fill-color);\n",
              "      border-bottom-color: var(--fill-color);\n",
              "    }\n",
              "    90% {\n",
              "      border-color: transparent;\n",
              "      border-bottom-color: var(--fill-color);\n",
              "    }\n",
              "  }\n",
              "</style>\n",
              "\n",
              "  <script>\n",
              "    async function quickchart(key) {\n",
              "      const quickchartButtonEl =\n",
              "        document.querySelector('#' + key + ' button');\n",
              "      quickchartButtonEl.disabled = true;  // To prevent multiple clicks.\n",
              "      quickchartButtonEl.classList.add('colab-df-spinner');\n",
              "      try {\n",
              "        const charts = await google.colab.kernel.invokeFunction(\n",
              "            'suggestCharts', [key], {});\n",
              "      } catch (error) {\n",
              "        console.error('Error during call to suggestCharts:', error);\n",
              "      }\n",
              "      quickchartButtonEl.classList.remove('colab-df-spinner');\n",
              "      quickchartButtonEl.classList.add('colab-df-quickchart-complete');\n",
              "    }\n",
              "    (() => {\n",
              "      let quickchartButtonEl =\n",
              "        document.querySelector('#df-a03fc11e-abf4-4cc8-9ed3-28d8d3798e9c button');\n",
              "      quickchartButtonEl.style.display =\n",
              "        google.colab.kernel.accessAllowed ? 'block' : 'none';\n",
              "    })();\n",
              "  </script>\n",
              "</div>\n",
              "\n",
              "    </div>\n",
              "  </div>\n"
            ],
            "text/plain": [
              "  CustomerID  Age  Location  PlanType  AverageCallDuration  DataUsage  \\\n",
              "0      C0001   56         2         0            26.289402   8.821847   \n",
              "1      C0002   69         0         0            16.289559  24.010073   \n",
              "2      C0003   46         2         0            19.343779   3.233515   \n",
              "3      C0004   32         1         0            19.689638  47.147981   \n",
              "4      C0005   60         0         0            24.774136   4.203650   \n",
              "\n",
              "   NumberOfCalls  MonthlyCharges  PaymentMethod  ChurnStatus AgeCategory  \n",
              "0            135       69.987056              0            0       Adult  \n",
              "1            235       65.104664              1            0         Old  \n",
              "2            230       76.134922              0            1       Adult  \n",
              "3            220      121.631377              0            0       Adult  \n",
              "4             34       82.942494              1            1         Old  "
            ]
          },
          "execution_count": 85,
          "metadata": {},
          "output_type": "execute_result"
        }
      ],
      "source": [
        "df.head()"
      ]
    },
    {
      "cell_type": "markdown",
      "metadata": {
        "id": "9r35XWHeEVuL"
      },
      "source": [
        "**Description:**\n",
        "\n",
        "Since machine learning models work with numbers, I converted categorical variables (like PlanType, Location, PaymentMethod, and ChurnStatus) into numerical values using Label Encoding. This step makes the dataset ready for modeling.\n",
        "\n",
        "**My Observation:**\n",
        "\n",
        "Encoding successfully converted categorical columns into numerical form. This step was necessary even though the dataset was already clean because machine learning models require numeric input."
      ]
    },
    {
      "cell_type": "markdown",
      "metadata": {
        "id": "6X6EpFbRdeco"
      },
      "source": [
        "**Let's observe How strongly each features affect churn:**"
      ]
    },
    {
      "cell_type": "code",
      "execution_count": 86,
      "metadata": {
        "colab": {
          "base_uri": "https://localhost:8080/"
        },
        "id": "SOzb3BRva6vf",
        "outputId": "526eb88e-5bc3-45f3-e552-7db36f31897a"
      },
      "outputs": [
        {
          "name": "stdout",
          "output_type": "stream",
          "text": [
            "ChurnStatus            1.000000\n",
            "Age                    0.032098\n",
            "PaymentMethod          0.017486\n",
            "AverageCallDuration    0.013265\n",
            "PlanType               0.003487\n",
            "NumberOfCalls         -0.000587\n",
            "DataUsage             -0.015237\n",
            "MonthlyCharges        -0.018184\n",
            "Location              -0.031486\n",
            "Name: ChurnStatus, dtype: float64\n"
          ]
        }
      ],
      "source": [
        "# Keep only numeric columns\n",
        "numeric_df = df.select_dtypes(include=['number'])   # The reason for storing even categorical columns (after encoding) in numeric_df is customerID is mix of catgory and numeric.\n",
        "\n",
        "# Compute correlation with 'ChurnStatus'\n",
        "correlation = numeric_df.corr()['ChurnStatus'].sort_values(ascending=False)\n",
        "\n",
        "# Display correlation values\n",
        "print(correlation)\n"
      ]
    },
    {
      "cell_type": "markdown",
      "metadata": {
        "id": "3Rv0JzPCbzmZ"
      },
      "source": [
        "**My Observation**\n",
        "\n",
        "**ChurnStatus (1.000) :** This is expected because a variable is always perfectly correlated with itself.\n",
        "\n",
        "**Age (0.032) :** Slight positive correlation with churn.\n",
        "\n",
        "**PaymentMethod (0.017) :** Weak correlation, meaning the payment method has almost no impact on churn.\n",
        "\n",
        "**AverageCallDuration (0.013) :** Almost no effect, suggesting that how long customers talk on calls is not linked to churn.\n",
        "\n",
        "**PlanType (0.003) :** No real impact on churn.\n",
        "\n",
        "**NumberOfCalls (-0.0005)** = No correlation, meaning call frequency does not predict churn.\n",
        "\n",
        "**DataUsage (-0.015) :** Slight negative correlation, but too small to be significant.\n",
        "\n",
        "**MonthlyCharges (-0.018) :** Weak negative correlation, suggesting that higher charges might slightly reduce churn.\n",
        "\n",
        "**Location (-0.031) :** Weakest negative correlation, meaning customer location has no meaningful influence on churn.\n"
      ]
    },
    {
      "cell_type": "markdown",
      "metadata": {},
      "source": [
        "# Customer Churn Analysis - Report "
      ]
    },
    {
      "cell_type": "markdown",
      "metadata": {},
      "source": [
        "# Executive Summary  \n",
        "Customer churn is a significant challenge for telecom companies, impacting revenue and customer acquisition costs. This analysis identifies key factors influencing churn and provides strategic recommendations to improve customer retention. Our findings highlight trends among different demographics, payment methods, and service plans. By leveraging data-driven insights, we propose targeted interventions to reduce churn and enhance customer satisfaction.  \n",
        "\n",
        "---  \n",
        "\n",
        "# Methodology  \n",
        "We conducted a comprehensive data analysis using a telecom dataset containing customer demographics, payment methods, service plans, and churn status. Our approach included:  \n",
        "\n",
        "- **Data Cleaning & Preprocessing:** Removing inconsistencies and missing values.  \n",
        "- **Exploratory Data Analysis (EDA):** Identifying trends and correlations between churn and customer attributes.   \n",
        "- **Segmentation Analysis:** Profiling churned customers based on demographics and service usage.  \n",
        "\n",
        "---  \n",
        "\n",
        "# Key Insights  \n",
        "1. **Service Plan Influence:** Customers on **Basic Plans** exhibit higher churn rates compared to those on Standard or Premium plans, suggesting a need for improved value offerings.  \n",
        "2. **Demographics Matter:** Customers in **urban areas** churn more frequently, likely due to higher competition and better alternatives.  \n",
        "3. **Payment Method Impact:** **Credit Card users** have a significantly higher churn rate than those using bank transfers, possibly due to billing issues or ease of cancellation.  \n",
        "4. **Age Group Trends:** Churn rates are **highest among customers aged 30-60**, indicating that this segment requires targeted retention efforts.  \n",
        "5. **Billing & Charges:** Monthly charges have **minimal direct impact** on churn, implying that customers leave due to service dissatisfaction rather than pricing.  \n",
        "\n",
        "---  \n",
        "\n",
        "# Recommendations  \n",
        "1. **Enhance Basic Plan Offerings:** Add more value to lower-tier plans, such as extra data, call benefits, or loyalty rewards, to increase retention.  \n",
        "2. **Urban Market Focus:** Improve service quality and offer competitive promotions in urban areas to counter high churn rates.  \n",
        "3. **Reduce Credit Card-Related Churn:** Offer incentives for bank transfers, improve auto-payment reminders, and enhance the billing experience.  \n",
        "4. **Personalized Customer Retention Strategies:** Use predictive modeling to identify high-risk customers and proactively offer targeted retention incentives.  \n",
        "5. **Survey and Feedback Mechanisms:** Implement exit surveys and customer feedback systems to continuously refine retention strategies.  \n",
        "\n",
        "By implementing these recommendations, the telecom provider can significantly reduce churn, increase customer lifetime value, and sustain long-term growth.  \n"
      ]
    }
  ],
  "metadata": {
    "colab": {
      "provenance": []
    },
    "kernelspec": {
      "display_name": "Python 3",
      "name": "python3"
    },
    "language_info": {
      "name": "python"
    }
  },
  "nbformat": 4,
  "nbformat_minor": 0
}
